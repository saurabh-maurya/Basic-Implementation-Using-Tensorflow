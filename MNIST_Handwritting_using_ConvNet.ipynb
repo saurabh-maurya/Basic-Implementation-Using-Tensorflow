{
  "nbformat": 4,
  "nbformat_minor": 0,
  "metadata": {
    "colab": {
      "name": "MNIST Handwritting using ConvNet.ipynb",
      "provenance": [],
      "collapsed_sections": [],
      "toc_visible": true,
      "include_colab_link": true
    },
    "kernelspec": {
      "display_name": "Python 3",
      "name": "python3"
    }
  },
  "cells": [
    {
      "cell_type": "markdown",
      "metadata": {
        "id": "view-in-github",
        "colab_type": "text"
      },
      "source": [
        "<a href=\"https://colab.research.google.com/github/saurabh-maurya/Simple-NN-Implementation-Using-Tensorflow/blob/master/MNIST_Handwritting_using_ConvNet.ipynb\" target=\"_parent\"><img src=\"https://colab.research.google.com/assets/colab-badge.svg\" alt=\"Open In Colab\"/></a>"
      ]
    },
    {
      "cell_type": "markdown",
      "metadata": {
        "colab_type": "text",
        "id": "iQjHqsmTAVLU"
      },
      "source": [
        "MNIST using Convolutions"
      ]
    },
    {
      "cell_type": "code",
      "metadata": {
        "colab_type": "code",
        "id": "sfQRyaJWAIdg",
        "colab": {
          "base_uri": "https://localhost:8080/",
          "height": 372
        },
        "outputId": "5670fc10-ea28-4a14-8591-efab3cc813cd"
      },
      "source": [
        "import tensorflow as tf\n",
        "\n",
        "class myCallback(tf.keras.callbacks.Callback):\n",
        "  def on_epoch_end(self, epoch, logs = {}):\n",
        "    if(logs.get('accuracy') > 0.998):\n",
        "      print(\"Reached 99.8% accuracy so cancelling training!\")\n",
        "      self.model.stop_training = True\n",
        "\n",
        "mnist = tf.keras.datasets.mnist\n",
        "(training_images, training_labels), (test_images, test_labels) = mnist.load_data()\n",
        "\n",
        "training_images = training_images/255.0\n",
        "training_images = training_images.reshape(60000,28,28,1)\n",
        "test_images = test_images/255.0\n",
        "test_images = test_images.reshape(10000,28,28,1)\n",
        "callbacks = myCallback()\n",
        "\n",
        "model = tf.keras.models.Sequential([\n",
        "  tf.keras.layers.Conv2D(32, (3, 3), activation = 'relu', input_shape = (28,28,1)),\n",
        "  tf.keras.layers.MaxPooling2D(2,2),\n",
        "  tf.keras.layers.Flatten(),\n",
        "  tf.keras.layers.Dense(128, activation = 'relu'),\n",
        "  tf.keras.layers.Dense(10, activation = 'softmax')\n",
        "        \n",
        "])\n",
        "\n",
        "model.compile(optimizer='adam', loss='sparse_categorical_crossentropy', metrics=['accuracy'])\n",
        "model.fit(\n",
        "    training_images, training_labels, epochs = 20, callbacks = [callbacks]\n",
        ")"
      ],
      "execution_count": 2,
      "outputs": [
        {
          "output_type": "stream",
          "text": [
            "Epoch 1/20\n",
            "1875/1875 [==============================] - 36s 19ms/step - loss: 0.1451 - accuracy: 0.9560\n",
            "Epoch 2/20\n",
            "1875/1875 [==============================] - 36s 19ms/step - loss: 0.0510 - accuracy: 0.9842\n",
            "Epoch 3/20\n",
            "1875/1875 [==============================] - 36s 19ms/step - loss: 0.0307 - accuracy: 0.9902\n",
            "Epoch 4/20\n",
            "1875/1875 [==============================] - 36s 19ms/step - loss: 0.0213 - accuracy: 0.9929\n",
            "Epoch 5/20\n",
            "1875/1875 [==============================] - 36s 19ms/step - loss: 0.0147 - accuracy: 0.9955\n",
            "Epoch 6/20\n",
            "1875/1875 [==============================] - 35s 19ms/step - loss: 0.0109 - accuracy: 0.9965\n",
            "Epoch 7/20\n",
            "1875/1875 [==============================] - 35s 19ms/step - loss: 0.0084 - accuracy: 0.9972\n",
            "Epoch 8/20\n",
            "1875/1875 [==============================] - 36s 19ms/step - loss: 0.0062 - accuracy: 0.9980\n",
            "Epoch 9/20\n",
            "1874/1875 [============================>.] - ETA: 0s - loss: 0.0059 - accuracy: 0.9982Reached 99.8% accuracy so cancelling training!\n",
            "1875/1875 [==============================] - 35s 18ms/step - loss: 0.0058 - accuracy: 0.9983\n"
          ],
          "name": "stdout"
        },
        {
          "output_type": "execute_result",
          "data": {
            "text/plain": [
              "<tensorflow.python.keras.callbacks.History at 0x7ff54773e048>"
            ]
          },
          "metadata": {
            "tags": []
          },
          "execution_count": 2
        }
      ]
    },
    {
      "cell_type": "code",
      "metadata": {
        "id": "AHZX605JiygN",
        "colab_type": "code",
        "colab": {}
      },
      "source": [
        ""
      ],
      "execution_count": 0,
      "outputs": []
    }
  ]
}